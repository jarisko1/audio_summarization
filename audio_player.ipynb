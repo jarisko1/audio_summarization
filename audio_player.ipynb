{
 "cells": [
  {
   "cell_type": "markdown",
   "id": "1d4cf98d",
   "metadata": {},
   "source": [
    "# Dependencies\n",
    "> Separate installation of `ffmeg` is required"
   ]
  },
  {
   "cell_type": "code",
   "execution_count": null,
   "id": "19d5f267",
   "metadata": {},
   "outputs": [],
   "source": [
    "pip install pygame mutagen pydub openai"
   ]
  },
  {
   "cell_type": "markdown",
   "id": "b68a464e",
   "metadata": {},
   "source": [
    "# Player"
   ]
  },
  {
   "cell_type": "code",
   "execution_count": null,
   "id": "1ccbd02a",
   "metadata": {},
   "outputs": [
    {
     "name": "stdout",
     "output_type": "stream",
     "text": [
      "pygame 2.6.1 (SDL 2.28.4, Python 3.11.6)\n",
      "Hello from the pygame community. https://www.pygame.org/contribute.html\n",
      "Snip saved at: 3556.13 seconds\n",
      "Processing snip at 3556.131402849741 seconds in file The Power of Light, Mitochondria and.mp3\n",
      "Snips processed and summaries updated.\n",
      "Snip saved at: 4155.47 seconds\n",
      "Processing snip at 4155.474347150259 seconds in file The Power of Light, Mitochondria and.mp3\n",
      "Snips processed and summaries updated.\n"
     ]
    }
   ],
   "source": [
    "import tkinter as tk\n",
    "from tkinter import ttk\n",
    "import pygame\n",
    "import time\n",
    "import os\n",
    "from mutagen.mp3 import MP3\n",
    "\n",
    "import src.snip as snip\n",
    "\n",
    "\n",
    "# Load MP3 file info\n",
    "\n",
    "audio_files = [f for f in os.listdir(os.getenv(\"DATA_FOLDER\", \"data\")) if f.endswith(\".mp3\")]\n",
    "\n",
    "if not audio_files:\n",
    "    raise Exception(\"No mp3 file found in data folder.\")\n",
    "\n",
    "audio_file = audio_files[0]\n",
    "audio_path = os.path.join(os.getenv(\"DATA_FOLDER\", \"data\"), audio_file)\n",
    "\n",
    "# Get total length using mutagen\n",
    "audio = MP3(audio_path)\n",
    "total_length = audio.info.length\n",
    "\n",
    "# Init pygame mixer\n",
    "pygame.mixer.init()\n",
    "pygame.mixer.music.load(audio_path)\n",
    "\n",
    "# App\n",
    "root = tk.Tk()\n",
    "root.title(\"MP3 Player\")\n",
    "\n",
    "is_playing = False\n",
    "updating_slider = False\n",
    "\n",
    "def play_pause():\n",
    "    global is_playing\n",
    "    if not is_playing:\n",
    "        pygame.mixer.music.play(start=slider.get())\n",
    "        is_playing = True\n",
    "        play_button.config(text=\"Pause\")\n",
    "    else:\n",
    "        pygame.mixer.music.pause()\n",
    "        is_playing = False\n",
    "        play_button.config(text=\"Play\")\n",
    "\n",
    "def update_progress():\n",
    "    if is_playing and not updating_slider:\n",
    "        current_time = pygame.mixer.music.get_pos() / 1000.0 + slider.get()\n",
    "        if current_time >= total_length:\n",
    "            current_time = total_length\n",
    "        current_time_label.config(text=f\"Current: {time.strftime('%M:%S', time.gmtime(current_time))}\")\n",
    "        slider.set(current_time)\n",
    "    root.after(500, update_progress)\n",
    "\n",
    "def on_slider_move(value):\n",
    "    global updating_slider\n",
    "    updating_slider = True\n",
    "    current_time_label.config(text=f\"Current: {time.strftime('%H:%M:%S', time.gmtime(float(value)))}\")\n",
    "\n",
    "def on_slider_release(event):\n",
    "    global updating_slider\n",
    "    pygame.mixer.music.play(start=slider.get())\n",
    "    is_playing = True\n",
    "    play_button.config(text=\"Pause\")\n",
    "    updating_slider = False\n",
    "\n",
    "def call_custom_function():\n",
    "    current_time = slider.get()\n",
    "    snip.add_snip(audio_file, current_time)\n",
    "    snip.process_snips()\n",
    "\n",
    "# UI elements\n",
    "tk.Label(root, text=f\"File: {audio_file}\").pack()\n",
    "\n",
    "total_time_label = tk.Label(root, text=f\"Total: {time.strftime('%H:%M:%S', time.gmtime(total_length))}\")\n",
    "total_time_label.pack()\n",
    "\n",
    "current_time_label = tk.Label(root, text=\"Current: 00:00\")\n",
    "current_time_label.pack()\n",
    "\n",
    "slider = ttk.Scale(root, from_=0, to=total_length, orient=\"horizontal\", length=400, command=on_slider_move)\n",
    "slider.pack()\n",
    "slider.bind(\"<ButtonRelease-1>\", on_slider_release)\n",
    "\n",
    "play_button = tk.Button(root, text=\"Play\", command=play_pause)\n",
    "play_button.pack(pady=5)\n",
    "\n",
    "custom_button = tk.Button(root, text=\"Make snip\", command=call_custom_function)\n",
    "custom_button.pack(pady=5)\n",
    "\n",
    "update_progress()\n",
    "root.mainloop()"
   ]
  }
 ],
 "metadata": {
  "kernelspec": {
   "display_name": ".venv",
   "language": "python",
   "name": "python3"
  },
  "language_info": {
   "codemirror_mode": {
    "name": "ipython",
    "version": 3
   },
   "file_extension": ".py",
   "mimetype": "text/x-python",
   "name": "python",
   "nbconvert_exporter": "python",
   "pygments_lexer": "ipython3",
   "version": "3.11.6"
  }
 },
 "nbformat": 4,
 "nbformat_minor": 5
}
